{
 "cells": [
  {
   "cell_type": "code",
   "execution_count": 1,
   "id": "350362ab",
   "metadata": {},
   "outputs": [],
   "source": [
    "import pandas as pd"
   ]
  },
  {
   "cell_type": "code",
   "execution_count": null,
   "id": "18f00cfb",
   "metadata": {},
   "outputs": [],
   "source": [
    "all_metrics = pd.read_csv('../curricular-analytics-exploration/files/CA_MetricsforMap_25_FINAL(All).csv')\n",
    "all_metrics\n",
    "\n",
    "major_metrics = pd.read_csv('../curricular-analytics-exploration/files/CA_MetricsforMap_25_FINAL(by Major).csv')\n",
    "\n",
    "\"\"\"\n",
    "I want the format \n",
    "Course ID | Dept Cd | Major | URM | First Gen | Gender Disproportionate | N | N Qrts | DFW | %DFW | Waitlist | Students | Courses Blocked | Complexity | Impact\n",
    "\n",
    "all_metrics\n",
    "Course ID | ___ | URM | etc etc | Applicant Type (Transfer vs FRFY) | etc etc\n",
    "\n",
    "major_metrics\n",
    "Course ID | Dept Cd | Breakdown | Disproportionate Impact\n",
    "\n",
    "Create new copy of major_metrics, then group by major -> once grouped, create new columns and insert \"Y\" from all_metrics per major as necessary\n",
    "\"\"\"\n",
    "\n",
    "major_metrics"
   ]
  },
  {
   "cell_type": "code",
   "execution_count": null,
   "id": "a1f1cb3c",
   "metadata": {},
   "outputs": [],
   "source": [
    "# set up formatting\n",
    "all_metrics.rename(columns={' Gender Disproportionate Impact': 'Gender Disproportionate Impact', 'Applicant Type': 'Transfer Disproportionate Impact'}, inplace=True)\n",
    "major_metrics.drop('Breakdown', axis=1, inplace=True)\n",
    "major_metrics.rename(columns={'Disproportionate Impact': 'Major Disproportionate Impact'}, inplace=True)\n",
    "\n",
    "# major_metrics.insert(loc=2, column='Major Disproportionate Impact', value='')\n",
    "major_metrics.insert(loc=3, column='URM Disproportionate Impact', value='')\n",
    "major_metrics.insert(loc=4, column='First Gen Disproportionate Impact', value='')\n",
    "major_metrics.insert(loc=5, column='Gender Disproportionate Impact', value='')\n",
    "major_metrics.insert(loc=6, column='Transfer Disproportionate Impact', value='')\n",
    "\n",
    "all_metrics\n"
   ]
  },
  {
   "cell_type": "code",
   "execution_count": null,
   "id": "dd23c760",
   "metadata": {},
   "outputs": [],
   "source": [
    "\"\"\"\n",
    "For each class inside all_metrics, filter major_metrics for that class, then for each impact turn them all to Y if necessary\n",
    "\"\"\"\n",
    "\n",
    "for index, class_row in all_metrics.iterrows():\n",
    "    if class_row['URM Disproportionate Impact'] == 'Y':\n",
    "        major_metrics.loc[major_metrics['Course ID'] == class_row['Course ID'], 'URM Disproportionate Impact'] = 'Y'\n",
    "    if class_row['First Gen Disproportionate Impact'] == 'Y':\n",
    "        major_metrics.loc[major_metrics['Course ID'] == class_row['Course ID'], 'First Gen Disproportionate Impact'] = 'Y'\n",
    "    if class_row['Gender Disproportionate Impact'] == 'Y':\n",
    "        major_metrics.loc[major_metrics['Course ID'] == class_row['Course ID'], 'Gender Disproportionate Impact'] = 'Y'\n",
    "    if class_row['Transfer Disproportionate Impact'] == 'Y':\n",
    "        major_metrics.loc[major_metrics['Course ID'] == class_row['Course ID'], 'Transfer Disproportionate Impact'] = 'Y'\n",
    "\n",
    "major_metrics"
   ]
  },
  {
   "cell_type": "code",
   "execution_count": 5,
   "id": "8d9d36f1",
   "metadata": {},
   "outputs": [],
   "source": [
    "major_metrics['N'] = pd.to_numeric(major_metrics['N'].str.replace(',', ''))\n",
    "major_metrics.drop('Transfer Disproportionate Impact', axis=1, inplace=True)"
   ]
  },
  {
   "cell_type": "code",
   "execution_count": 6,
   "id": "e4960746",
   "metadata": {},
   "outputs": [],
   "source": [
    "major_metrics.to_csv('files/CA_MetricsforMap_25_FINAL(Metrics).csv', index=False)"
   ]
  },
  {
   "cell_type": "code",
   "execution_count": 4,
   "id": "01f979a7",
   "metadata": {},
   "outputs": [],
   "source": [
    "all_metrics['N'] = pd.to_numeric(all_metrics['N'].str.replace(',', ''))"
   ]
  },
  {
   "cell_type": "code",
   "execution_count": null,
   "id": "d67758cd",
   "metadata": {},
   "outputs": [],
   "source": [
    "all_metrics.to_csv('files/CA_MetricsforMap_25_')"
   ]
  }
 ],
 "metadata": {
  "kernelspec": {
   "display_name": "curricular",
   "language": "python",
   "name": "python3"
  },
  "language_info": {
   "codemirror_mode": {
    "name": "ipython",
    "version": 3
   },
   "file_extension": ".py",
   "mimetype": "text/x-python",
   "name": "python",
   "nbconvert_exporter": "python",
   "pygments_lexer": "ipython3",
   "version": "3.13.0"
  }
 },
 "nbformat": 4,
 "nbformat_minor": 5
}
